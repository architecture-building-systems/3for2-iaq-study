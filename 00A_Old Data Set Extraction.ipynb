{
 "cells": [
  {
   "cell_type": "markdown",
   "metadata": {},
   "source": [
    "# \"Old\" Data from the old space that the occupants inhabited\n",
    "\n",
    "Clayton Miller\n",
    "Feb 22, 2017\n",
    "\n",
    "Extract data and analyze data according to Jovan's instructions:\n",
    "\n",
    "```\n",
    "First I will start with dates:\n",
    "7th October till 15th October. According to data looks like 11th and 12th October were weekends although the calendar says 10th and 11th October. \n",
    "\n",
    "Sensor readings will have a few adjustments. I will go as they appear in the Grafana visualization tool.\n",
    "\n",
    "Temperature [deg C] - no corrections\n",
    "Relative Humidity [%] - no correction\n",
    "CO [ppm] - no correction\n",
    "CO2 [ppm] - I need to see you regarding this. I know that Starbuck had garbage reading. Ganzhi numerical values that appear when a cursor is over them are good but visualization is totally off. \n",
    "NO2 [ppm] - multiply with 0.378 to get NO2 [micrograms/m3]\n",
    "Formaldehyde - this was garbage reading. Erase it!\n",
    "Ozone [ppb] - no corrections\n",
    "VOC [ppb] - no corrections\n",
    "Particles [particles/liter] - we will correct this for exclusively PM 2.5 by: number measured x 0.008177 and you will have [micrograms/m3]\n",
    "IR Wall Temperature - all values should be averaged by adding them all up (8 of them) and just divided by 8. If this is possible would be the best: take that averaged value and add value Clayton_temp.mean and divide them by 2. This should then be Operative Temperature [deg C]. If this is complicated just use an average of 8 values and call that operative temperature.\n",
    "```"
   ]
  },
  {
   "cell_type": "code",
   "execution_count": 108,
   "metadata": {
    "collapsed": true
   },
   "outputs": [],
   "source": [
    "import pandas as pd\n",
    "from influxdb import DataFrameClient\n",
    "import pytz\n",
    "import seaborn as sns\n",
    "import json\n",
    "import datetime\n",
    "import matplotlib.pyplot as plt\n",
    "\n",
    "from pylab import *\n",
    "from __future__ import division"
   ]
  },
  {
   "cell_type": "code",
   "execution_count": 2,
   "metadata": {
    "collapsed": true
   },
   "outputs": [],
   "source": [
    "%matplotlib inline"
   ]
  },
  {
   "cell_type": "code",
   "execution_count": 3,
   "metadata": {
    "collapsed": true
   },
   "outputs": [],
   "source": [
    "host='horsebrokedown-clocktower-1.c.influxdb.com' \n",
    "port='8086'\n",
    "login='influxdb'\n",
    "pw='a873671b790d4523'\n",
    "dbname = 'particletest'\n",
    "\n",
    "client = DataFrameClient(host, port, login, pw, dbname, ssl=True, verify_ssl=True)"
   ]
  },
  {
   "cell_type": "code",
   "execution_count": 4,
   "metadata": {
    "collapsed": false
   },
   "outputs": [],
   "source": [
    "seriesname = pd.DataFrame(list(client.query('SHOW SERIES'))[0])"
   ]
  },
  {
   "cell_type": "code",
   "execution_count": 5,
   "metadata": {
    "collapsed": false
   },
   "outputs": [],
   "source": [
    "series = seriesname['key'].str.split(\",\").apply(pd.Series)"
   ]
  },
  {
   "cell_type": "code",
   "execution_count": 6,
   "metadata": {
    "collapsed": false
   },
   "outputs": [],
   "source": [
    "co2sensors = series[series[0].str.contains(\"CO2\")]"
   ]
  },
  {
   "cell_type": "code",
   "execution_count": 7,
   "metadata": {
    "collapsed": true
   },
   "outputs": [],
   "source": [
    "pointlist = list(series[0])"
   ]
  },
  {
   "cell_type": "code",
   "execution_count": 8,
   "metadata": {
    "collapsed": false
   },
   "outputs": [],
   "source": [
    "pointname = pointlist[0]"
   ]
  },
  {
   "cell_type": "code",
   "execution_count": 9,
   "metadata": {
    "collapsed": false
   },
   "outputs": [],
   "source": [
    "data = client.query('SELECT * FROM '+pointname+' WHERE time > now() - 1000d')\n",
    "data = pd.DataFrame(data[pointname])\n",
    "tz_pytz = pytz.timezone('Asia/Singapore')\n",
    "data = data.tz_convert(tz_pytz)"
   ]
  },
  {
   "cell_type": "code",
   "execution_count": 10,
   "metadata": {
    "collapsed": false
   },
   "outputs": [],
   "source": [
    "#data['pointname'] = data.sensorbank+\"_\"+data[\"type\"]"
   ]
  },
  {
   "cell_type": "code",
   "execution_count": 11,
   "metadata": {
    "collapsed": false
   },
   "outputs": [
    {
     "data": {
      "text/html": [
       "<div>\n",
       "<table border=\"1\" class=\"dataframe\">\n",
       "  <thead>\n",
       "    <tr style=\"text-align: right;\">\n",
       "      <th></th>\n",
       "      <th>sensorbank</th>\n",
       "      <th>type</th>\n",
       "      <th>value</th>\n",
       "    </tr>\n",
       "  </thead>\n",
       "  <tbody>\n",
       "    <tr>\n",
       "      <th>2015-09-04 17:01:18+08:00</th>\n",
       "      <td>CLETUS</td>\n",
       "      <td>CO</td>\n",
       "      <td>4.094721</td>\n",
       "    </tr>\n",
       "    <tr>\n",
       "      <th>2015-09-04 17:02:37+08:00</th>\n",
       "      <td>CLETUS</td>\n",
       "      <td>CO</td>\n",
       "      <td>4.094721</td>\n",
       "    </tr>\n",
       "    <tr>\n",
       "      <th>2015-09-04 17:03:59+08:00</th>\n",
       "      <td>CLETUS</td>\n",
       "      <td>CO</td>\n",
       "      <td>4.094721</td>\n",
       "    </tr>\n",
       "    <tr>\n",
       "      <th>2015-09-04 17:05:18+08:00</th>\n",
       "      <td>CLETUS</td>\n",
       "      <td>CO</td>\n",
       "      <td>4.094721</td>\n",
       "    </tr>\n",
       "    <tr>\n",
       "      <th>2015-09-04 17:06:40+08:00</th>\n",
       "      <td>CLETUS</td>\n",
       "      <td>CO</td>\n",
       "      <td>4.094721</td>\n",
       "    </tr>\n",
       "  </tbody>\n",
       "</table>\n",
       "</div>"
      ],
      "text/plain": [
       "                          sensorbank type     value\n",
       "2015-09-04 17:01:18+08:00     CLETUS   CO  4.094721\n",
       "2015-09-04 17:02:37+08:00     CLETUS   CO  4.094721\n",
       "2015-09-04 17:03:59+08:00     CLETUS   CO  4.094721\n",
       "2015-09-04 17:05:18+08:00     CLETUS   CO  4.094721\n",
       "2015-09-04 17:06:40+08:00     CLETUS   CO  4.094721"
      ]
     },
     "execution_count": 11,
     "metadata": {},
     "output_type": "execute_result"
    }
   ],
   "source": [
    "data.head()"
   ]
  },
  {
   "cell_type": "code",
   "execution_count": 12,
   "metadata": {
    "collapsed": false
   },
   "outputs": [],
   "source": [
    "data = pd.pivot_table(data, index=data.index, columns=['sensorbank','type'], values='value')"
   ]
  },
  {
   "cell_type": "code",
   "execution_count": 13,
   "metadata": {
    "collapsed": false
   },
   "outputs": [
    {
     "data": {
      "text/html": [
       "<div>\n",
       "<table border=\"1\" class=\"dataframe\">\n",
       "  <thead>\n",
       "    <tr>\n",
       "      <th>sensorbank</th>\n",
       "      <th>CLETUS</th>\n",
       "    </tr>\n",
       "    <tr>\n",
       "      <th>type</th>\n",
       "      <th>CO</th>\n",
       "    </tr>\n",
       "  </thead>\n",
       "  <tbody>\n",
       "    <tr>\n",
       "      <th>2015-09-04 17:01:18+08:00</th>\n",
       "      <td>4.094721</td>\n",
       "    </tr>\n",
       "    <tr>\n",
       "      <th>2015-09-04 17:02:37+08:00</th>\n",
       "      <td>4.094721</td>\n",
       "    </tr>\n",
       "    <tr>\n",
       "      <th>2015-09-04 17:03:59+08:00</th>\n",
       "      <td>4.094721</td>\n",
       "    </tr>\n",
       "    <tr>\n",
       "      <th>2015-09-04 17:05:18+08:00</th>\n",
       "      <td>4.094721</td>\n",
       "    </tr>\n",
       "    <tr>\n",
       "      <th>2015-09-04 17:06:40+08:00</th>\n",
       "      <td>4.094721</td>\n",
       "    </tr>\n",
       "  </tbody>\n",
       "</table>\n",
       "</div>"
      ],
      "text/plain": [
       "sensorbank                   CLETUS\n",
       "type                             CO\n",
       "2015-09-04 17:01:18+08:00  4.094721\n",
       "2015-09-04 17:02:37+08:00  4.094721\n",
       "2015-09-04 17:03:59+08:00  4.094721\n",
       "2015-09-04 17:05:18+08:00  4.094721\n",
       "2015-09-04 17:06:40+08:00  4.094721"
      ]
     },
     "execution_count": 13,
     "metadata": {},
     "output_type": "execute_result"
    }
   ],
   "source": [
    "data.head()"
   ]
  },
  {
   "cell_type": "code",
   "execution_count": 14,
   "metadata": {
    "collapsed": false
   },
   "outputs": [
    {
     "name": "stdout",
     "output_type": "stream",
     "text": [
      "Getting CLETUS_CO\n",
      "Getting CLETUS_CO2\n",
      "Getting CLETUS_FORM\n",
      "Getting CLETUS_NO2\n",
      "Getting CLETUS_O3\n",
      "Getting CLETUS_PART\n",
      "Getting CLETUS_VOC\n",
      "Getting CLETUS_hum\n",
      "Getting CLETUS_temp\n",
      "Getting CO2_1_CO2_11\n",
      "Getting CO2_1_CO2_12\n",
      "Getting CO2_2_CO2_21\n",
      "Getting CO2_2_CO2_22\n",
      "Getting CO2_3_CO2_31\n",
      "Getting CO2_3_CO2_32\n",
      "Getting Clayton_hum\n",
      "Getting Clayton_i1\n",
      "Getting Clayton_i2\n",
      "Getting Clayton_i3\n",
      "Getting Clayton_i4\n",
      "Getting Clayton_i5\n",
      "Getting Clayton_i6\n",
      "Getting Clayton_i7\n",
      "Getting Clayton_i8\n",
      "Getting Clayton_temp\n",
      "Getting DALE_CO\n",
      "Getting DALE_CO2\n",
      "Getting DALE_FORM\n",
      "Getting DALE_NO2\n",
      "Getting DALE_O3\n",
      "Getting DALE_PART\n",
      "Getting DALE_VOC\n",
      "Getting DALE_hum\n",
      "Getting DALE_temp\n",
      "Getting ERIC_hum\n",
      "Getting ERIC_milli\n",
      "Getting ERIC_temp\n",
      "Getting GANZHI_CO\n",
      "Getting GANZHI_CO2\n",
      "Getting GANZHI_FORM\n",
      "Getting GANZHI_NO2\n",
      "Getting GANZHI_O3\n",
      "Getting GANZHI_PART\n",
      "Getting GANZHI_VOC\n",
      "Getting GANZHI_hum\n",
      "Getting GANZHI_temp\n",
      "Getting PEACHES_hum\n",
      "Getting PEACHES_milli\n",
      "Getting PEACHES_temp\n",
      "Getting Photon_3_Ball-Hum\n",
      "Point not found\n",
      "Getting Photon_3_Ball-Temp\n",
      "Point not found\n",
      "Getting Photon_3_CO2-frmVOC\n",
      "Point not found\n",
      "Getting Photon_3_CO2ppm\n",
      "Getting Photon_3_Hum2\n",
      "Getting Photon_3_Temp2\n",
      "Getting Photon_3_VOC-long\n",
      "Point not found\n",
      "Getting Photon_3_dustDensity\n",
      "Getting STARBUCK_CO\n",
      "Getting STARBUCK_CO2\n",
      "Getting STARBUCK_FORM\n",
      "Getting STARBUCK_NO2\n",
      "Getting STARBUCK_O3\n",
      "Getting STARBUCK_PART\n",
      "Getting STARBUCK_VOC\n",
      "Getting STARBUCK_hum\n",
      "Getting STARBUCK_temp\n",
      "Getting TEKANAN_CO\n",
      "Getting TEKANAN_CO2\n",
      "Getting TEKANAN_FORM\n",
      "Getting TEKANAN_NO2\n",
      "Getting TEKANAN_O3\n",
      "Getting TEKANAN_PART\n",
      "Getting TEKANAN_VOC\n",
      "Getting TEKANAN_hum\n",
      "Getting TEKANAN_temp\n",
      "Getting VOC1_VOC\n",
      "Getting VOC3_VOC\n"
     ]
    }
   ],
   "source": [
    "allpoints = pd.DataFrame()\n",
    "for pointname in pointlist:\n",
    "    print \"Getting \"+pointname\n",
    "    try:\n",
    "        data = client.query('SELECT * FROM '+pointname+' WHERE time > now() - 1000d')\n",
    "        data = pd.DataFrame(data[pointname])\n",
    "        tz_pytz = pytz.timezone('Asia/Singapore')\n",
    "        data = data.tz_convert(tz_pytz)\n",
    "        #data['pointname'] = data.sensorbank+\"_\"+data[\"type\"]\n",
    "        #data = data.pivot(columns='pointname', values='value')\n",
    "        data = pd.pivot_table(data, index=data.index, columns=['type','sensorbank'], values='value')\n",
    "        data = data.resample(\"10min\").mean()\n",
    "        allpoints = pd.concat([allpoints, data], axis=1)\n",
    "    #allpoints = pd.merge(allpoints, data, how='outer', right_index=True, left_index=True)\n",
    "    except:\n",
    "        print \"Point not found\""
   ]
  },
  {
   "cell_type": "code",
   "execution_count": 15,
   "metadata": {
    "collapsed": false
   },
   "outputs": [],
   "source": [
    "#sns.boxplot(allpoints_oct)"
   ]
  },
  {
   "cell_type": "code",
   "execution_count": 116,
   "metadata": {
    "collapsed": false
   },
   "outputs": [
    {
     "data": {
      "text/html": [
       "<div>\n",
       "<table border=\"1\" class=\"dataframe\">\n",
       "  <thead>\n",
       "    <tr>\n",
       "      <th>type</th>\n",
       "      <th>CO</th>\n",
       "      <th>CO2</th>\n",
       "      <th>FORM</th>\n",
       "      <th>NO2</th>\n",
       "      <th>O3</th>\n",
       "      <th>PART</th>\n",
       "      <th>VOC</th>\n",
       "      <th>hum</th>\n",
       "      <th>temp</th>\n",
       "      <th>CO2_11</th>\n",
       "      <th>...</th>\n",
       "      <th>CO2</th>\n",
       "      <th>FORM</th>\n",
       "      <th>NO2</th>\n",
       "      <th>O3</th>\n",
       "      <th>PART</th>\n",
       "      <th>VOC</th>\n",
       "      <th>hum</th>\n",
       "      <th>temp</th>\n",
       "      <th colspan=\"2\" halign=\"left\">VOC</th>\n",
       "    </tr>\n",
       "    <tr>\n",
       "      <th>sensorbank</th>\n",
       "      <th>CLETUS</th>\n",
       "      <th>CLETUS</th>\n",
       "      <th>CLETUS</th>\n",
       "      <th>CLETUS</th>\n",
       "      <th>CLETUS</th>\n",
       "      <th>CLETUS</th>\n",
       "      <th>CLETUS</th>\n",
       "      <th>CLETUS</th>\n",
       "      <th>CLETUS</th>\n",
       "      <th>CO2_1</th>\n",
       "      <th>...</th>\n",
       "      <th>TEKANAN</th>\n",
       "      <th>TEKANAN</th>\n",
       "      <th>TEKANAN</th>\n",
       "      <th>TEKANAN</th>\n",
       "      <th>TEKANAN</th>\n",
       "      <th>TEKANAN</th>\n",
       "      <th>TEKANAN</th>\n",
       "      <th>TEKANAN</th>\n",
       "      <th>VOC1</th>\n",
       "      <th>VOC3</th>\n",
       "    </tr>\n",
       "  </thead>\n",
       "  <tbody>\n",
       "    <tr>\n",
       "      <th>2015-09-04 16:40:00+08:00</th>\n",
       "      <td>NaN</td>\n",
       "      <td>NaN</td>\n",
       "      <td>NaN</td>\n",
       "      <td>NaN</td>\n",
       "      <td>NaN</td>\n",
       "      <td>NaN</td>\n",
       "      <td>NaN</td>\n",
       "      <td>NaN</td>\n",
       "      <td>NaN</td>\n",
       "      <td>NaN</td>\n",
       "      <td>...</td>\n",
       "      <td>NaN</td>\n",
       "      <td>NaN</td>\n",
       "      <td>NaN</td>\n",
       "      <td>NaN</td>\n",
       "      <td>NaN</td>\n",
       "      <td>NaN</td>\n",
       "      <td>NaN</td>\n",
       "      <td>NaN</td>\n",
       "      <td>NaN</td>\n",
       "      <td>NaN</td>\n",
       "    </tr>\n",
       "    <tr>\n",
       "      <th>2015-09-04 16:50:00+08:00</th>\n",
       "      <td>NaN</td>\n",
       "      <td>NaN</td>\n",
       "      <td>NaN</td>\n",
       "      <td>NaN</td>\n",
       "      <td>NaN</td>\n",
       "      <td>NaN</td>\n",
       "      <td>NaN</td>\n",
       "      <td>NaN</td>\n",
       "      <td>NaN</td>\n",
       "      <td>NaN</td>\n",
       "      <td>...</td>\n",
       "      <td>NaN</td>\n",
       "      <td>NaN</td>\n",
       "      <td>NaN</td>\n",
       "      <td>NaN</td>\n",
       "      <td>NaN</td>\n",
       "      <td>NaN</td>\n",
       "      <td>NaN</td>\n",
       "      <td>NaN</td>\n",
       "      <td>NaN</td>\n",
       "      <td>NaN</td>\n",
       "    </tr>\n",
       "    <tr>\n",
       "      <th>2015-09-04 17:00:00+08:00</th>\n",
       "      <td>4.095077</td>\n",
       "      <td>0.0</td>\n",
       "      <td>0.022341</td>\n",
       "      <td>4.083458</td>\n",
       "      <td>4.102058</td>\n",
       "      <td>0.0</td>\n",
       "      <td>0.006053</td>\n",
       "      <td>NaN</td>\n",
       "      <td>NaN</td>\n",
       "      <td>NaN</td>\n",
       "      <td>...</td>\n",
       "      <td>NaN</td>\n",
       "      <td>NaN</td>\n",
       "      <td>NaN</td>\n",
       "      <td>NaN</td>\n",
       "      <td>NaN</td>\n",
       "      <td>NaN</td>\n",
       "      <td>NaN</td>\n",
       "      <td>NaN</td>\n",
       "      <td>NaN</td>\n",
       "      <td>NaN</td>\n",
       "    </tr>\n",
       "    <tr>\n",
       "      <th>2015-09-04 17:10:00+08:00</th>\n",
       "      <td>4.095551</td>\n",
       "      <td>0.0</td>\n",
       "      <td>0.023582</td>\n",
       "      <td>4.083813</td>\n",
       "      <td>4.101820</td>\n",
       "      <td>0.0</td>\n",
       "      <td>0.006231</td>\n",
       "      <td>NaN</td>\n",
       "      <td>NaN</td>\n",
       "      <td>NaN</td>\n",
       "      <td>...</td>\n",
       "      <td>NaN</td>\n",
       "      <td>NaN</td>\n",
       "      <td>NaN</td>\n",
       "      <td>NaN</td>\n",
       "      <td>NaN</td>\n",
       "      <td>NaN</td>\n",
       "      <td>NaN</td>\n",
       "      <td>NaN</td>\n",
       "      <td>NaN</td>\n",
       "      <td>NaN</td>\n",
       "    </tr>\n",
       "    <tr>\n",
       "      <th>2015-09-04 17:20:00+08:00</th>\n",
       "      <td>NaN</td>\n",
       "      <td>NaN</td>\n",
       "      <td>NaN</td>\n",
       "      <td>NaN</td>\n",
       "      <td>NaN</td>\n",
       "      <td>NaN</td>\n",
       "      <td>NaN</td>\n",
       "      <td>NaN</td>\n",
       "      <td>NaN</td>\n",
       "      <td>NaN</td>\n",
       "      <td>...</td>\n",
       "      <td>NaN</td>\n",
       "      <td>NaN</td>\n",
       "      <td>NaN</td>\n",
       "      <td>NaN</td>\n",
       "      <td>NaN</td>\n",
       "      <td>NaN</td>\n",
       "      <td>NaN</td>\n",
       "      <td>NaN</td>\n",
       "      <td>NaN</td>\n",
       "      <td>NaN</td>\n",
       "    </tr>\n",
       "  </tbody>\n",
       "</table>\n",
       "<p>5 rows × 73 columns</p>\n",
       "</div>"
      ],
      "text/plain": [
       "type                             CO    CO2      FORM       NO2        O3  \\\n",
       "sensorbank                   CLETUS CLETUS    CLETUS    CLETUS    CLETUS   \n",
       "2015-09-04 16:40:00+08:00       NaN    NaN       NaN       NaN       NaN   \n",
       "2015-09-04 16:50:00+08:00       NaN    NaN       NaN       NaN       NaN   \n",
       "2015-09-04 17:00:00+08:00  4.095077    0.0  0.022341  4.083458  4.102058   \n",
       "2015-09-04 17:10:00+08:00  4.095551    0.0  0.023582  4.083813  4.101820   \n",
       "2015-09-04 17:20:00+08:00       NaN    NaN       NaN       NaN       NaN   \n",
       "\n",
       "type                        PART       VOC    hum   temp CO2_11 ...      CO2  \\\n",
       "sensorbank                CLETUS    CLETUS CLETUS CLETUS  CO2_1 ...  TEKANAN   \n",
       "2015-09-04 16:40:00+08:00    NaN       NaN    NaN    NaN    NaN ...      NaN   \n",
       "2015-09-04 16:50:00+08:00    NaN       NaN    NaN    NaN    NaN ...      NaN   \n",
       "2015-09-04 17:00:00+08:00    0.0  0.006053    NaN    NaN    NaN ...      NaN   \n",
       "2015-09-04 17:10:00+08:00    0.0  0.006231    NaN    NaN    NaN ...      NaN   \n",
       "2015-09-04 17:20:00+08:00    NaN       NaN    NaN    NaN    NaN ...      NaN   \n",
       "\n",
       "type                         FORM     NO2      O3    PART     VOC     hum  \\\n",
       "sensorbank                TEKANAN TEKANAN TEKANAN TEKANAN TEKANAN TEKANAN   \n",
       "2015-09-04 16:40:00+08:00     NaN     NaN     NaN     NaN     NaN     NaN   \n",
       "2015-09-04 16:50:00+08:00     NaN     NaN     NaN     NaN     NaN     NaN   \n",
       "2015-09-04 17:00:00+08:00     NaN     NaN     NaN     NaN     NaN     NaN   \n",
       "2015-09-04 17:10:00+08:00     NaN     NaN     NaN     NaN     NaN     NaN   \n",
       "2015-09-04 17:20:00+08:00     NaN     NaN     NaN     NaN     NaN     NaN   \n",
       "\n",
       "type                         temp  VOC       \n",
       "sensorbank                TEKANAN VOC1 VOC3  \n",
       "2015-09-04 16:40:00+08:00     NaN  NaN  NaN  \n",
       "2015-09-04 16:50:00+08:00     NaN  NaN  NaN  \n",
       "2015-09-04 17:00:00+08:00     NaN  NaN  NaN  \n",
       "2015-09-04 17:10:00+08:00     NaN  NaN  NaN  \n",
       "2015-09-04 17:20:00+08:00     NaN  NaN  NaN  \n",
       "\n",
       "[5 rows x 73 columns]"
      ]
     },
     "execution_count": 116,
     "metadata": {},
     "output_type": "execute_result"
    }
   ],
   "source": [
    "allpoints.head()"
   ]
  },
  {
   "cell_type": "code",
   "execution_count": 115,
   "metadata": {
    "collapsed": true
   },
   "outputs": [],
   "source": [
    "allpoints.to_csv(\"./extracted_data/old_space/bulk_data/AllParticleData.csv\")"
   ]
  },
  {
   "cell_type": "code",
   "execution_count": 16,
   "metadata": {
    "collapsed": false
   },
   "outputs": [
    {
     "data": {
      "text/html": [
       "<div>\n",
       "<table border=\"1\" class=\"dataframe\">\n",
       "  <thead>\n",
       "    <tr style=\"text-align: right;\">\n",
       "      <th>sensorbank</th>\n",
       "      <th>CLETUS</th>\n",
       "      <th>DALE</th>\n",
       "      <th>GANZHI</th>\n",
       "      <th>STARBUCK</th>\n",
       "      <th>TEKANAN</th>\n",
       "    </tr>\n",
       "  </thead>\n",
       "  <tbody>\n",
       "    <tr>\n",
       "      <th>2015-09-04 16:40:00+08:00</th>\n",
       "      <td>NaN</td>\n",
       "      <td>0.0</td>\n",
       "      <td>NaN</td>\n",
       "      <td>NaN</td>\n",
       "      <td>NaN</td>\n",
       "    </tr>\n",
       "    <tr>\n",
       "      <th>2015-09-04 16:50:00+08:00</th>\n",
       "      <td>NaN</td>\n",
       "      <td>0.0</td>\n",
       "      <td>NaN</td>\n",
       "      <td>NaN</td>\n",
       "      <td>NaN</td>\n",
       "    </tr>\n",
       "    <tr>\n",
       "      <th>2015-09-04 17:00:00+08:00</th>\n",
       "      <td>0.0</td>\n",
       "      <td>0.0</td>\n",
       "      <td>0.0</td>\n",
       "      <td>0.0</td>\n",
       "      <td>NaN</td>\n",
       "    </tr>\n",
       "    <tr>\n",
       "      <th>2015-09-04 17:10:00+08:00</th>\n",
       "      <td>0.0</td>\n",
       "      <td>NaN</td>\n",
       "      <td>0.0</td>\n",
       "      <td>0.0</td>\n",
       "      <td>NaN</td>\n",
       "    </tr>\n",
       "    <tr>\n",
       "      <th>2015-09-04 17:20:00+08:00</th>\n",
       "      <td>NaN</td>\n",
       "      <td>NaN</td>\n",
       "      <td>NaN</td>\n",
       "      <td>NaN</td>\n",
       "      <td>NaN</td>\n",
       "    </tr>\n",
       "  </tbody>\n",
       "</table>\n",
       "</div>"
      ],
      "text/plain": [
       "sensorbank                 CLETUS  DALE  GANZHI  STARBUCK  TEKANAN\n",
       "2015-09-04 16:40:00+08:00     NaN   0.0     NaN       NaN      NaN\n",
       "2015-09-04 16:50:00+08:00     NaN   0.0     NaN       NaN      NaN\n",
       "2015-09-04 17:00:00+08:00     0.0   0.0     0.0       0.0      NaN\n",
       "2015-09-04 17:10:00+08:00     0.0   NaN     0.0       0.0      NaN\n",
       "2015-09-04 17:20:00+08:00     NaN   NaN     NaN       NaN      NaN"
      ]
     },
     "execution_count": 16,
     "metadata": {},
     "output_type": "execute_result"
    }
   ],
   "source": [
    "allpoints[\"CO2\"].head()"
   ]
  }
 ],
 "metadata": {
  "hide_input": false,
  "kernelspec": {
   "display_name": "Python 2",
   "language": "python",
   "name": "python2"
  },
  "language_info": {
   "codemirror_mode": {
    "name": "ipython",
    "version": 2
   },
   "file_extension": ".py",
   "mimetype": "text/x-python",
   "name": "python",
   "nbconvert_exporter": "python",
   "pygments_lexer": "ipython2",
   "version": "2.7.12"
  }
 },
 "nbformat": 4,
 "nbformat_minor": 0
}
