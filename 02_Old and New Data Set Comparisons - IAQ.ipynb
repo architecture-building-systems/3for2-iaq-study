{
 "cells": [
  {
   "cell_type": "markdown",
   "metadata": {},
   "source": [
    "# 3for2 IAQ Data from BMS\n",
    "\n",
    "Clayton Miller\n",
    "Feb 22, 2017\n",
    "\n",
    "Here we will take the old and new space results and "
   ]
  },
  {
   "cell_type": "code",
   "execution_count": 1,
   "metadata": {
    "collapsed": true
   },
   "outputs": [],
   "source": [
    "import pandas as pd\n",
    "from influxdb import DataFrameClient\n",
    "import pytz\n",
    "import seaborn as sns\n",
    "import json\n",
    "import datetime\n",
    "import matplotlib.pyplot as plt\n",
    "import os\n",
    "from pylab import *\n",
    "from __future__ import division"
   ]
  },
  {
   "cell_type": "code",
   "execution_count": 2,
   "metadata": {
    "collapsed": true
   },
   "outputs": [],
   "source": [
    "%matplotlib inline"
   ]
  },
  {
   "cell_type": "markdown",
   "metadata": {},
   "source": [
    "## Grab the already downloaded data"
   ]
  },
  {
   "cell_type": "code",
   "execution_count": 3,
   "metadata": {
    "collapsed": false
   },
   "outputs": [],
   "source": [
    "oldlist = os.listdir(\"/Users/Clayton/3for2-DataAnalytics/IAQ/extracted_data/old_space/targeted_data/\")"
   ]
  },
  {
   "cell_type": "code",
   "execution_count": 4,
   "metadata": {
    "collapsed": false
   },
   "outputs": [
    {
     "data": {
      "text/plain": [
       "['OldSpaceIAQ_IR.csv',\n",
       " 'Room Air CO2.csv',\n",
       " 'Room Air Particles.csv',\n",
       " 'Room Air Rel. Humidity.csv',\n",
       " 'Room Air Temperature.csv',\n",
       " 'Volatile Organic Compounds.csv']"
      ]
     },
     "execution_count": 4,
     "metadata": {},
     "output_type": "execute_result"
    }
   ],
   "source": [
    "oldlist"
   ]
  },
  {
   "cell_type": "code",
   "execution_count": 29,
   "metadata": {
    "collapsed": true
   },
   "outputs": [],
   "source": [
    "oldlist = ['Room Air Temperature.csv','Room Air Rel. Humidity.csv',\n",
    " 'Room Air CO2.csv',\n",
    " 'Room Air Particles.csv'] #,'Volatile Organic Compounds.csv' 'OldSpaceIAQ_IR.csv'"
   ]
  },
  {
   "cell_type": "code",
   "execution_count": 30,
   "metadata": {
    "collapsed": false
   },
   "outputs": [],
   "source": [
    "olddata = []#pd.DataFrame()\n",
    "for filename in oldlist:\n",
    "    df = pd.read_csv(\"/Users/Clayton/3for2-DataAnalytics/IAQ/extracted_data/old_space/targeted_data/\"+filename, index_col=\"Unnamed: 0\")\n",
    "    olddata.append(df)\n",
    "    #print df.head()\n",
    "olddata_df = pd.concat(olddata, axis=0)"
   ]
  },
  {
   "cell_type": "code",
   "execution_count": 31,
   "metadata": {
    "collapsed": false
   },
   "outputs": [
    {
     "data": {
      "text/html": [
       "<div>\n",
       "<table border=\"1\" class=\"dataframe\">\n",
       "  <thead>\n",
       "    <tr style=\"text-align: right;\">\n",
       "      <th></th>\n",
       "      <th>Zones</th>\n",
       "      <th>Value</th>\n",
       "      <th>Occupancy Type</th>\n",
       "      <th>Unit</th>\n",
       "    </tr>\n",
       "  </thead>\n",
       "  <tbody>\n",
       "    <tr>\n",
       "      <th>0</th>\n",
       "      <td>Zone 1</td>\n",
       "      <td>2.177054</td>\n",
       "      <td>Working Hours</td>\n",
       "      <td>Particles [micrograms/m3]</td>\n",
       "    </tr>\n",
       "    <tr>\n",
       "      <th>1</th>\n",
       "      <td>Zone 1</td>\n",
       "      <td>9.475123</td>\n",
       "      <td>Working Hours</td>\n",
       "      <td>Particles [micrograms/m3]</td>\n",
       "    </tr>\n",
       "    <tr>\n",
       "      <th>2</th>\n",
       "      <td>Zone 1</td>\n",
       "      <td>7.991237</td>\n",
       "      <td>Working Hours</td>\n",
       "      <td>Particles [micrograms/m3]</td>\n",
       "    </tr>\n",
       "    <tr>\n",
       "      <th>3</th>\n",
       "      <td>Zone 1</td>\n",
       "      <td>9.607631</td>\n",
       "      <td>Working Hours</td>\n",
       "      <td>Particles [micrograms/m3]</td>\n",
       "    </tr>\n",
       "    <tr>\n",
       "      <th>4</th>\n",
       "      <td>Zone 1</td>\n",
       "      <td>5.279573</td>\n",
       "      <td>Working Hours</td>\n",
       "      <td>Particles [micrograms/m3]</td>\n",
       "    </tr>\n",
       "  </tbody>\n",
       "</table>\n",
       "</div>"
      ],
      "text/plain": [
       "    Zones     Value Occupancy Type                       Unit\n",
       "0  Zone 1  2.177054  Working Hours  Particles [micrograms/m3]\n",
       "1  Zone 1  9.475123  Working Hours  Particles [micrograms/m3]\n",
       "2  Zone 1  7.991237  Working Hours  Particles [micrograms/m3]\n",
       "3  Zone 1  9.607631  Working Hours  Particles [micrograms/m3]\n",
       "4  Zone 1  5.279573  Working Hours  Particles [micrograms/m3]"
      ]
     },
     "execution_count": 31,
     "metadata": {},
     "output_type": "execute_result"
    }
   ],
   "source": [
    "df.head()"
   ]
  },
  {
   "cell_type": "code",
   "execution_count": 32,
   "metadata": {
    "collapsed": false
   },
   "outputs": [
    {
     "name": "stdout",
     "output_type": "stream",
     "text": [
      "<class 'pandas.core.frame.DataFrame'>\n",
      "Int64Index: 5643 entries, 0 to 749\n",
      "Data columns (total 4 columns):\n",
      "Zones             5643 non-null object\n",
      "Value             5642 non-null float64\n",
      "Occupancy Type    5643 non-null object\n",
      "Unit              5643 non-null object\n",
      "dtypes: float64(1), object(3)\n",
      "memory usage: 220.4+ KB\n"
     ]
    }
   ],
   "source": [
    "olddata_df.info()"
   ]
  },
  {
   "cell_type": "code",
   "execution_count": 33,
   "metadata": {
    "collapsed": false
   },
   "outputs": [
    {
     "data": {
      "text/html": [
       "<div>\n",
       "<table border=\"1\" class=\"dataframe\">\n",
       "  <thead>\n",
       "    <tr style=\"text-align: right;\">\n",
       "      <th></th>\n",
       "      <th>Zones</th>\n",
       "      <th>Value</th>\n",
       "      <th>Occupancy Type</th>\n",
       "      <th>Unit</th>\n",
       "    </tr>\n",
       "  </thead>\n",
       "  <tbody>\n",
       "    <tr>\n",
       "      <th>0</th>\n",
       "      <td>Zone 1</td>\n",
       "      <td>21.676001</td>\n",
       "      <td>Working Hours</td>\n",
       "      <td>Temp [deg. C]</td>\n",
       "    </tr>\n",
       "    <tr>\n",
       "      <th>1</th>\n",
       "      <td>Zone 1</td>\n",
       "      <td>21.712000</td>\n",
       "      <td>Working Hours</td>\n",
       "      <td>Temp [deg. C]</td>\n",
       "    </tr>\n",
       "    <tr>\n",
       "      <th>2</th>\n",
       "      <td>Zone 1</td>\n",
       "      <td>21.430001</td>\n",
       "      <td>Working Hours</td>\n",
       "      <td>Temp [deg. C]</td>\n",
       "    </tr>\n",
       "    <tr>\n",
       "      <th>3</th>\n",
       "      <td>Zone 1</td>\n",
       "      <td>21.466000</td>\n",
       "      <td>Working Hours</td>\n",
       "      <td>Temp [deg. C]</td>\n",
       "    </tr>\n",
       "    <tr>\n",
       "      <th>4</th>\n",
       "      <td>Zone 1</td>\n",
       "      <td>21.526000</td>\n",
       "      <td>Working Hours</td>\n",
       "      <td>Temp [deg. C]</td>\n",
       "    </tr>\n",
       "  </tbody>\n",
       "</table>\n",
       "</div>"
      ],
      "text/plain": [
       "    Zones      Value Occupancy Type           Unit\n",
       "0  Zone 1  21.676001  Working Hours  Temp [deg. C]\n",
       "1  Zone 1  21.712000  Working Hours  Temp [deg. C]\n",
       "2  Zone 1  21.430001  Working Hours  Temp [deg. C]\n",
       "3  Zone 1  21.466000  Working Hours  Temp [deg. C]\n",
       "4  Zone 1  21.526000  Working Hours  Temp [deg. C]"
      ]
     },
     "execution_count": 33,
     "metadata": {},
     "output_type": "execute_result"
    }
   ],
   "source": [
    "olddata_df.head()"
   ]
  },
  {
   "cell_type": "code",
   "execution_count": 34,
   "metadata": {
    "collapsed": true
   },
   "outputs": [],
   "source": [
    "olddata_df[\"Phase\"] = \"Previous Office\" "
   ]
  },
  {
   "cell_type": "code",
   "execution_count": 35,
   "metadata": {
    "collapsed": false
   },
   "outputs": [
    {
     "data": {
      "text/html": [
       "<div>\n",
       "<table border=\"1\" class=\"dataframe\">\n",
       "  <thead>\n",
       "    <tr style=\"text-align: right;\">\n",
       "      <th></th>\n",
       "      <th>Zones</th>\n",
       "      <th>Value</th>\n",
       "      <th>Occupancy Type</th>\n",
       "      <th>Unit</th>\n",
       "      <th>Phase</th>\n",
       "    </tr>\n",
       "  </thead>\n",
       "  <tbody>\n",
       "    <tr>\n",
       "      <th>0</th>\n",
       "      <td>Zone 1</td>\n",
       "      <td>21.676001</td>\n",
       "      <td>Working Hours</td>\n",
       "      <td>Temp [deg. C]</td>\n",
       "      <td>Previous Office</td>\n",
       "    </tr>\n",
       "    <tr>\n",
       "      <th>1</th>\n",
       "      <td>Zone 1</td>\n",
       "      <td>21.712000</td>\n",
       "      <td>Working Hours</td>\n",
       "      <td>Temp [deg. C]</td>\n",
       "      <td>Previous Office</td>\n",
       "    </tr>\n",
       "    <tr>\n",
       "      <th>2</th>\n",
       "      <td>Zone 1</td>\n",
       "      <td>21.430001</td>\n",
       "      <td>Working Hours</td>\n",
       "      <td>Temp [deg. C]</td>\n",
       "      <td>Previous Office</td>\n",
       "    </tr>\n",
       "    <tr>\n",
       "      <th>3</th>\n",
       "      <td>Zone 1</td>\n",
       "      <td>21.466000</td>\n",
       "      <td>Working Hours</td>\n",
       "      <td>Temp [deg. C]</td>\n",
       "      <td>Previous Office</td>\n",
       "    </tr>\n",
       "    <tr>\n",
       "      <th>4</th>\n",
       "      <td>Zone 1</td>\n",
       "      <td>21.526000</td>\n",
       "      <td>Working Hours</td>\n",
       "      <td>Temp [deg. C]</td>\n",
       "      <td>Previous Office</td>\n",
       "    </tr>\n",
       "  </tbody>\n",
       "</table>\n",
       "</div>"
      ],
      "text/plain": [
       "    Zones      Value Occupancy Type           Unit            Phase\n",
       "0  Zone 1  21.676001  Working Hours  Temp [deg. C]  Previous Office\n",
       "1  Zone 1  21.712000  Working Hours  Temp [deg. C]  Previous Office\n",
       "2  Zone 1  21.430001  Working Hours  Temp [deg. C]  Previous Office\n",
       "3  Zone 1  21.466000  Working Hours  Temp [deg. C]  Previous Office\n",
       "4  Zone 1  21.526000  Working Hours  Temp [deg. C]  Previous Office"
      ]
     },
     "execution_count": 35,
     "metadata": {},
     "output_type": "execute_result"
    }
   ],
   "source": [
    "olddata_df.head()"
   ]
  },
  {
   "cell_type": "markdown",
   "metadata": {},
   "source": [
    "## New Data"
   ]
  },
  {
   "cell_type": "code",
   "execution_count": 67,
   "metadata": {
    "collapsed": true
   },
   "outputs": [],
   "source": [
    "newlist = os.listdir(\"/Users/Clayton/3for2-DataAnalytics/IAQ/extracted_data/new_space/targeted_data/\")"
   ]
  },
  {
   "cell_type": "code",
   "execution_count": 68,
   "metadata": {
    "collapsed": false
   },
   "outputs": [
    {
     "data": {
      "text/plain": [
       "['Air Relative Humidity.csv',\n",
       " 'AirflowRate.csv',\n",
       " 'AirMod.csv',\n",
       " 'AirSystemCO2.csv',\n",
       " 'Carbon Dioxide (CO2) -- Adhoc Sensors.csv',\n",
       " 'Carbon Dioxide (CO2) -- BMS Sensors.csv',\n",
       " 'Carbon Dioxide (CO2).csv',\n",
       " 'Dry Bulb Air Temperature.csv',\n",
       " 'Operative Temperature.csv',\n",
       " 'Particles.csv',\n",
       " 'Volatile Organic Compounds (VOC).csv',\n",
       " 'WaterSystemFlow.csv',\n",
       " 'WaterSystemTemp.csv',\n",
       " 'WaterValvePosition.csv']"
      ]
     },
     "execution_count": 68,
     "metadata": {},
     "output_type": "execute_result"
    }
   ],
   "source": [
    "newlist"
   ]
  },
  {
   "cell_type": "code",
   "execution_count": 69,
   "metadata": {
    "collapsed": false
   },
   "outputs": [],
   "source": [
    "newlist_man = ['Air Relative Humidity.csv',\n",
    " 'Carbon Dioxide (CO2) -- Adhoc Sensors.csv',\n",
    " 'Particles.csv',\n",
    "#  'Carbon Dioxide (CO2) -- BMS Sensors.csv',\n",
    " 'Dry Bulb Air Temperature.csv'\n",
    " ] #'Operative Temperature.csv','Volatile Organic Compounds (VOC).csv'"
   ]
  },
  {
   "cell_type": "code",
   "execution_count": 70,
   "metadata": {
    "collapsed": false
   },
   "outputs": [],
   "source": [
    "newdata = []#pd.DataFrame()\n",
    "for filename in newlist_man:\n",
    "    df = pd.read_csv(\"/Users/Clayton/3for2-DataAnalytics/IAQ/extracted_data/new_space/targeted_data/\"+filename, index_col=\"Unnamed: 0\")\n",
    "    newdata.append(df)\n",
    "    #print df.head()\n",
    "newdata_df = pd.concat(newdata, axis=0)"
   ]
  },
  {
   "cell_type": "code",
   "execution_count": 71,
   "metadata": {
    "collapsed": false
   },
   "outputs": [
    {
     "data": {
      "text/html": [
       "<div>\n",
       "<table border=\"1\" class=\"dataframe\">\n",
       "  <thead>\n",
       "    <tr style=\"text-align: right;\">\n",
       "      <th></th>\n",
       "      <th>Zones</th>\n",
       "      <th>Value</th>\n",
       "      <th>Occupancy Type</th>\n",
       "      <th>Unit</th>\n",
       "    </tr>\n",
       "  </thead>\n",
       "  <tbody>\n",
       "    <tr>\n",
       "      <th>0</th>\n",
       "      <td>Zone 1</td>\n",
       "      <td>58.000000</td>\n",
       "      <td>Working Hours</td>\n",
       "      <td>Rel. Humidity [%]</td>\n",
       "    </tr>\n",
       "    <tr>\n",
       "      <th>774</th>\n",
       "      <td>Zone 1</td>\n",
       "      <td>55.000000</td>\n",
       "      <td>Working Hours</td>\n",
       "      <td>Rel. Humidity [%]</td>\n",
       "    </tr>\n",
       "    <tr>\n",
       "      <th>773</th>\n",
       "      <td>Zone 1</td>\n",
       "      <td>55.000000</td>\n",
       "      <td>Working Hours</td>\n",
       "      <td>Rel. Humidity [%]</td>\n",
       "    </tr>\n",
       "    <tr>\n",
       "      <th>771</th>\n",
       "      <td>Zone 1</td>\n",
       "      <td>54.833333</td>\n",
       "      <td>Working Hours</td>\n",
       "      <td>Rel. Humidity [%]</td>\n",
       "    </tr>\n",
       "    <tr>\n",
       "      <th>770</th>\n",
       "      <td>Zone 1</td>\n",
       "      <td>54.777778</td>\n",
       "      <td>Working Hours</td>\n",
       "      <td>Rel. Humidity [%]</td>\n",
       "    </tr>\n",
       "  </tbody>\n",
       "</table>\n",
       "</div>"
      ],
      "text/plain": [
       "      Zones      Value Occupancy Type               Unit\n",
       "0    Zone 1  58.000000  Working Hours  Rel. Humidity [%]\n",
       "774  Zone 1  55.000000  Working Hours  Rel. Humidity [%]\n",
       "773  Zone 1  55.000000  Working Hours  Rel. Humidity [%]\n",
       "771  Zone 1  54.833333  Working Hours  Rel. Humidity [%]\n",
       "770  Zone 1  54.777778  Working Hours  Rel. Humidity [%]"
      ]
     },
     "execution_count": 71,
     "metadata": {},
     "output_type": "execute_result"
    }
   ],
   "source": [
    "newdata_df.head()"
   ]
  },
  {
   "cell_type": "code",
   "execution_count": 72,
   "metadata": {
    "collapsed": true
   },
   "outputs": [],
   "source": [
    "newdata_df[\"Phase\"] = \"3for2\" "
   ]
  },
  {
   "cell_type": "code",
   "execution_count": 73,
   "metadata": {
    "collapsed": true
   },
   "outputs": [],
   "source": [
    "alldata = pd.concat([olddata_df,newdata_df],axis=0)"
   ]
  },
  {
   "cell_type": "code",
   "execution_count": 74,
   "metadata": {
    "collapsed": false
   },
   "outputs": [],
   "source": [
    "#alldata = alldata.sort_values(\"Phase\")"
   ]
  },
  {
   "cell_type": "code",
   "execution_count": 75,
   "metadata": {
    "collapsed": false
   },
   "outputs": [
    {
     "data": {
      "text/plain": [
       "array(['Zone 1', 'Zone 2', 'Zone 3', 'Zone 4', 'Zone 5', 'HR Meeting',\n",
       "       'Finance Office', 'HR Director'], dtype=object)"
      ]
     },
     "execution_count": 75,
     "metadata": {},
     "output_type": "execute_result"
    }
   ],
   "source": [
    "alldata.Zones.unique()"
   ]
  },
  {
   "cell_type": "code",
   "execution_count": 86,
   "metadata": {
    "collapsed": false,
    "scrolled": false
   },
   "outputs": [
    {
     "data": {
      "image/png": "[encoded data removed]",
      "text/plain": [
       "<matplotlib.figure.Figure at 0x11fc84f50>"
      ]
     },
     "metadata": {},
     "output_type": "display_data"
    }
   ],
   "source": [
    "sns.set(style=\"ticks\")\n",
    "# plt.figure(figsize=[16,5])\n",
    "plt.rcParams[\"figure.figsize\"] = (15,4)\n",
    "\n",
    "# fig1.suptitle(\"All Point\", fontsize=14, y=1.03)\n",
    "g = sns.FacetGrid(alldata, col=\"Unit\", size=4.5, aspect=.65, sharey=False)\n",
    "g = g.map(sns.boxplot,\"Phase\",  \"Value\",\"Occupancy Type\")#.add_legend(title=\"Phase\")\n",
    "# sns.despine(offset=10, trim=True)\n",
    "sns.plt.legend(loc='upper left',bbox_to_anchor=(-1.8,-0.17))\n",
    "\n",
    "plt.savefig(\"./figures/Pre_and_Post_3for2_NoVOC_withnewParticles.pdf\")\n",
    "alldata.to_csv(\"./extracted_data/AllData.csv\")"
   ]
  },
  {
   "cell_type": "code",
   "execution_count": null,
   "metadata": {
    "collapsed": true
   },
   "outputs": [],
   "source": []
  },
  {
   "cell_type": "code",
   "execution_count": null,
   "metadata": {
    "collapsed": true
   },
   "outputs": [],
   "source": []
  }
 ],
 "metadata": {
  "hide_input": false,
  "kernelspec": {
   "display_name": "Python 2",
   "language": "python",
   "name": "python2"
  },
  "language_info": {
   "codemirror_mode": {
    "name": "ipython",
    "version": 2
   },
   "file_extension": ".py",
   "mimetype": "text/x-python",
   "name": "python",
   "nbconvert_exporter": "python",
   "pygments_lexer": "ipython2",
   "version": "2.7.12"
  }
 },
 "nbformat": 4,
 "nbformat_minor": 0
}
