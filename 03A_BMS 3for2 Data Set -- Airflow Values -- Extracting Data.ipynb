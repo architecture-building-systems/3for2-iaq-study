{
 "cells": [
  {
   "cell_type": "markdown",
   "metadata": {},
   "source": [
    "# 3for2 IAQ Data from BMS\n",
    "\n",
    "Clayton Miller\n",
    "Feb 22, 2017\n",
    "\n",
    "Extract data and analyze data according to Jovan's instructions:\n",
    "\n",
    "```\n",
    "This will be the airside dataset. This will show the operation of air and water components of 3for2 for periods of time when we used kits to measure performance in the space. These plots should have time on the x-axis and then respective quantities on the y-axis. If you have some other idea to show it please go ahead with it. Idea from my perspective here is to show dinamic response of the system and difference between various spaces.\n",
    "\n",
    "I will use names in the horsebrokedown dashboard.\n",
    "\n",
    "For the period December 29th and January 7th and February 10th to 16th in the Airside System I would like to show an operation of the ventilation supply and CO2 levels in the exhaust air by comparing following readings:\n",
    "\n",
    "CO2 sensors: B10_Area3for2_A_Ahu1_DOAS_CO2Ex\n",
    "                       B10_Area3for2_A_Ahu3_DOAS_CO2Ex\n",
    "                       B10_Area3for2_A_Ahu4_DOAS_CO2Ex\n",
    "\n",
    "Air system supply flow rates: B10_Area3for2_A_Ahu1_DOAS_FanSuEh_FISu\n",
    "                                               B10_Area3for2_A_Ahu3_DOAS_FanSuEh_FISu\n",
    "                                               B10_Area3for2_A_Ahu4_DOAS_FanSuEh_FISu\n",
    "\n",
    "DOAS air system modulation: B10_Area3for2_A_Ahu1_DOAS_FanSuEh_MdltSu\n",
    "                                                 B10_Area3for2_A_Ahu3_DOAS_FanSuEh_MdltSu\n",
    "                                                 B10_Area3for2_A_Ahu4_DOAS_FanSuEh_MdltSu\n",
    "\n",
    "For the period December 29th and January 7th and February 10th to 16th in the Waterside System\n",
    "\n",
    "Valve positions Chilled Beams: B10_Area3for2_R_FO3_CcgVlvPos_1\n",
    "                                                  B10_Area3for2_R_HRM_CcgVlvPos_1\n",
    "                                                  B10_Area3for2_R_O_CcgVlvPos_1\n",
    "                                                  B10_Area3for2_R_P_CcgVlvPos_1\n",
    "\n",
    "Supply water temperatures PCB: B10_Area3for2_Mtr_CGrpPCB_FO3_TFI\n",
    "                                                     B10_Area3for2_Mtr_CGrpPCB_HRM_TFI\n",
    "                                                     B10_Area3for2_Mtr_CGrpPCB_Om1_TFI\n",
    "                                                     B10_Area3for2_Mtr_CGrpPCB_Pm1_TFI\n",
    "\n",
    "Water flowrate PCB: B10_Area3for2_Mtr_CGrpPCB_FO3_FL\n",
    "B10_Area3for2_Mtr_CGrpPCB_HRM_FL\n",
    "B10_Area3for2_Mtr_CGrpPCB_Om1_FL\n",
    "B10_Area3for2_Mtr_CGrpPCB_Om2_FL\n",
    "B10_Area3for2_Mtr_CGrpPCB_Om3_FL\n",
    "B10_Area3for2_Mtr_CGrpPCB_Om4_FL\n",
    "B10_Area3for2_Mtr_CGrpPCB_Om5_FL\n",
    "B10_Area3for2_Mtr_CGrpPCB_Pm1_FL\n",
    "B10_Area3for2_Mtr_CGrpPCB_Pm2_FL\n",
    "```"
   ]
  },
  {
   "cell_type": "code",
   "execution_count": 62,
   "metadata": {
    "collapsed": true
   },
   "outputs": [],
   "source": [
    "import pandas as pd\n",
    "from influxdb import DataFrameClient\n",
    "import pytz\n",
    "import seaborn as sns\n",
    "import json\n",
    "import datetime\n",
    "import matplotlib.pyplot as plt\n",
    "\n",
    "from pylab import *\n",
    "from __future__ import division"
   ]
  },
  {
   "cell_type": "code",
   "execution_count": 63,
   "metadata": {
    "collapsed": true
   },
   "outputs": [],
   "source": [
    "%matplotlib inline"
   ]
  },
  {
   "cell_type": "markdown",
   "metadata": {},
   "source": [
    "## First let's grab the BMS data"
   ]
  },
  {
   "cell_type": "code",
   "execution_count": 89,
   "metadata": {
    "collapsed": true
   },
   "outputs": [],
   "source": [
    "# host='horsebrokedown-clocktower-1.c.influxdb.com' \n",
    "# port='8086'\n",
    "# login='influxdb'\n",
    "# pw='a873671b790d4523'\n",
    "# dbname = 'siemenstest'\n",
    "\n",
    "host='lonepine-76a67992.influxcloud.net'\n",
    "port='8086' \n",
    "login='loaddata'\n",
    "pw='uwcsearocks88'\n",
    "database = 'bms'\n",
    "\n",
    "client = DataFrameClient(host, port, login, pw, database, ssl=True, verify_ssl=True)"
   ]
  },
  {
   "cell_type": "code",
   "execution_count": 65,
   "metadata": {
    "collapsed": false
   },
   "outputs": [],
   "source": [
    "seriesname = pd.DataFrame(list(client.query('SHOW SERIES'))[0])"
   ]
  },
  {
   "cell_type": "code",
   "execution_count": 66,
   "metadata": {
    "collapsed": false
   },
   "outputs": [],
   "source": [
    "series = seriesname['key'].str.split(\",\").apply(pd.Series)"
   ]
  },
  {
   "cell_type": "code",
   "execution_count": 67,
   "metadata": {
    "collapsed": false
   },
   "outputs": [
    {
     "data": {
      "text/html": [
       "<div>\n",
       "<table border=\"1\" class=\"dataframe\">\n",
       "  <thead>\n",
       "    <tr style=\"text-align: right;\">\n",
       "      <th></th>\n",
       "      <th>0</th>\n",
       "      <th>1</th>\n",
       "      <th>2</th>\n",
       "      <th>3</th>\n",
       "      <th>4</th>\n",
       "    </tr>\n",
       "  </thead>\n",
       "  <tbody>\n",
       "    <tr>\n",
       "      <th>0</th>\n",
       "      <td>bmspoint</td>\n",
       "      <td>DeviceNum=0</td>\n",
       "      <td>Location=DOAS1</td>\n",
       "      <td>System=Ventilation</td>\n",
       "      <td>Type=CO2</td>\n",
       "    </tr>\n",
       "    <tr>\n",
       "      <th>1</th>\n",
       "      <td>bmspoint</td>\n",
       "      <td>DeviceNum=0</td>\n",
       "      <td>Location=DOAS2</td>\n",
       "      <td>System=Ventilation</td>\n",
       "      <td>Type=CO2</td>\n",
       "    </tr>\n",
       "    <tr>\n",
       "      <th>2</th>\n",
       "      <td>bmspoint</td>\n",
       "      <td>DeviceNum=0</td>\n",
       "      <td>Location=DOAS3</td>\n",
       "      <td>System=Ventilation</td>\n",
       "      <td>Type=CO2</td>\n",
       "    </tr>\n",
       "    <tr>\n",
       "      <th>3</th>\n",
       "      <td>bmspoint</td>\n",
       "      <td>DeviceNum=0</td>\n",
       "      <td>Location=DOAS4</td>\n",
       "      <td>System=Ventilation</td>\n",
       "      <td>Type=CO2</td>\n",
       "    </tr>\n",
       "    <tr>\n",
       "      <th>4</th>\n",
       "      <td>bmspoint</td>\n",
       "      <td>DeviceNum=0</td>\n",
       "      <td>Location=FCU1</td>\n",
       "      <td>System=Ventilation</td>\n",
       "      <td>Type=CO2</td>\n",
       "    </tr>\n",
       "  </tbody>\n",
       "</table>\n",
       "</div>"
      ],
      "text/plain": [
       "          0            1               2                   3         4\n",
       "0  bmspoint  DeviceNum=0  Location=DOAS1  System=Ventilation  Type=CO2\n",
       "1  bmspoint  DeviceNum=0  Location=DOAS2  System=Ventilation  Type=CO2\n",
       "2  bmspoint  DeviceNum=0  Location=DOAS3  System=Ventilation  Type=CO2\n",
       "3  bmspoint  DeviceNum=0  Location=DOAS4  System=Ventilation  Type=CO2\n",
       "4  bmspoint  DeviceNum=0   Location=FCU1  System=Ventilation  Type=CO2"
      ]
     },
     "execution_count": 67,
     "metadata": {},
     "output_type": "execute_result"
    }
   ],
   "source": [
    "series.head()"
   ]
  },
  {
   "cell_type": "code",
   "execution_count": 68,
   "metadata": {
    "collapsed": false
   },
   "outputs": [
    {
     "name": "stdout",
     "output_type": "stream",
     "text": [
      "<class 'pandas.core.frame.DataFrame'>\n",
      "RangeIndex: 751 entries, 0 to 750\n",
      "Data columns (total 5 columns):\n",
      "0    751 non-null object\n",
      "1    751 non-null object\n",
      "2    751 non-null object\n",
      "3    751 non-null object\n",
      "4    751 non-null object\n",
      "dtypes: object(5)\n",
      "memory usage: 29.4+ KB\n"
     ]
    }
   ],
   "source": [
    "series.info()"
   ]
  },
  {
   "cell_type": "code",
   "execution_count": 8,
   "metadata": {
    "collapsed": true
   },
   "outputs": [],
   "source": [
    "pointlist = list(series[0])"
   ]
  },
  {
   "cell_type": "code",
   "execution_count": 9,
   "metadata": {
    "collapsed": false
   },
   "outputs": [],
   "source": [
    "#client.query('SELECT * FROM bmspoint WHERE time > now() - 10d AND time < now() - 9d', chunked=True)"
   ]
  },
  {
   "cell_type": "markdown",
   "metadata": {},
   "source": [
    "## Get all data from dates of Dec 29 - Jan 7\n",
    "\n",
    "Dec 29 is 63 days ago -- we can pull out data 3 days at a time for the time range"
   ]
  },
  {
   "cell_type": "code",
   "execution_count": 78,
   "metadata": {
    "collapsed": true
   },
   "outputs": [],
   "source": [
    "dec_jan_timeranges = [(63,61),(61,59),(59,57),(57,55),(55,53)]\n",
    "feb_timeranges = [(21,19),(19,17),(17,15),(15,13)]\n",
    "febmar_timeranges = [(12,10),(10,8),(8,6),(6,5),(5,4),(4,3),(3,2),(2,1),(1,0)]\n",
    "\n",
    "#dec_feb_timeranges = [(63,61),(61,59),(59,57),(57,55),(55,53),(21,19),(19,17),(17,15),(15,13)]\n",
    "dec_feb_timeranges = [(73,71),(71,69),(69,67),(67,65),(65,63),(31,29),(29,27),(27,25),(25,23)] #had to increase by 10 as I picked up this notebook again after 10 days -- need a better way of getting the data"
   ]
  },
  {
   "cell_type": "code",
   "execution_count": 84,
   "metadata": {
    "collapsed": false
   },
   "outputs": [],
   "source": [
    "def get_data(begin, end, pointtype):\n",
    "    data = client.query('SELECT * FROM bmspoint WHERE time > now() - '+str(end)+'d AND time < now() - '+str(begin)+'d')\n",
    "    data = pd.DataFrame(data['bmspoint'])\n",
    "    tz_pytz = pytz.timezone('Asia/Singapore')\n",
    "    data = data.tz_convert(tz_pytz)\n",
    "    df = data[(data.Type==pointtype)]\n",
    "    df = pd.pivot_table(df, columns=[\"Location\",\"DeviceNum\"], index=df.index, values=\"value\")\n",
    "    df = df.resample('5min').mean()\n",
    "    return df"
   ]
  },
  {
   "cell_type": "code",
   "execution_count": 17,
   "metadata": {
    "collapsed": false
   },
   "outputs": [],
   "source": [
    "data = client.query('SELECT * FROM bmspoint WHERE time > now() - 2d AND time < now() - 1d')\n",
    "data = pd.DataFrame(data['bmspoint'])\n",
    "tz_pytz = pytz.timezone('Asia/Singapore')\n",
    "data = data.tz_convert(tz_pytz)"
   ]
  },
  {
   "cell_type": "code",
   "execution_count": 94,
   "metadata": {
    "collapsed": false
   },
   "outputs": [
    {
     "data": {
      "text/html": [
       "<div>\n",
       "<table border=\"1\" class=\"dataframe\">\n",
       "  <thead>\n",
       "    <tr style=\"text-align: right;\">\n",
       "      <th></th>\n",
       "      <th>Area</th>\n",
       "      <th>Equip</th>\n",
       "      <th>PointGroup</th>\n",
       "      <th>PointType</th>\n",
       "      <th>SubEquip1</th>\n",
       "      <th>SubEquip2</th>\n",
       "      <th>Type</th>\n",
       "      <th>name</th>\n",
       "      <th>value</th>\n",
       "    </tr>\n",
       "  </thead>\n",
       "  <tbody>\n",
       "  </tbody>\n",
       "</table>\n",
       "</div>"
      ],
      "text/plain": [
       "Empty DataFrame\n",
       "Columns: [Area, Equip, PointGroup, PointType, SubEquip1, SubEquip2, Type, name, value]\n",
       "Index: []"
      ]
     },
     "execution_count": 94,
     "metadata": {},
     "output_type": "execute_result"
    }
   ],
   "source": [
    "data[data.Type=='ValvePosition']"
   ]
  },
  {
   "cell_type": "markdown",
   "metadata": {},
   "source": [
    "## Get CO2"
   ]
  },
  {
   "cell_type": "code",
   "execution_count": 91,
   "metadata": {
    "collapsed": true
   },
   "outputs": [],
   "source": [
    "def extract_data_from_influx(timeranges, pointname, filename):\n",
    "    df_all = pd.DataFrame()\n",
    "    for timerange in timeranges:\n",
    "        print \"timerange\"+str(timerange)\n",
    "        df = get_data(timerange[1],timerange[0], pointname)\n",
    "        df_all = pd.concat([df_all, df], axis=0)\n",
    "    #df = df.tz_convert(\"None\")\n",
    "    df_all.to_csv(filename)\n",
    "    return df_all"
   ]
  },
  {
   "cell_type": "code",
   "execution_count": 87,
   "metadata": {
    "collapsed": false
   },
   "outputs": [],
   "source": [
    "#co2ex = extract_data_from_influx(dec_feb_timeranges, \"CO2\", \"CO2_Dec_Feb.csv\")"
   ]
  },
  {
   "cell_type": "code",
   "execution_count": null,
   "metadata": {
    "collapsed": false
   },
   "outputs": [],
   "source": [
    "# all_data_co2 = pd.DataFrame()\n",
    "# for timerange in dec_feb_timeranges:\n",
    "#     print \"timerange\"+str(timerange)\n",
    "#     df = get_data(timerange[1],timerange[0],'CO2Ex')\n",
    "#     all_data_co2 = pd.concat([all_data_co2_febmar, df], axis=0)\n",
    "# all_data_co2.to_csv(\"CO2Ex_Dec_Feb.csv\")"
   ]
  },
  {
   "cell_type": "code",
   "execution_count": null,
   "metadata": {
    "collapsed": false
   },
   "outputs": [],
   "source": [
    "co2ex.head()"
   ]
  },
  {
   "cell_type": "code",
   "execution_count": 24,
   "metadata": {
    "collapsed": false
   },
   "outputs": [],
   "source": [
    "# all_data_co2_febmar.resample('H').mean().plot(subplots=True, figsize=(10,30));"
   ]
  },
  {
   "cell_type": "markdown",
   "metadata": {},
   "source": [
    "## Get BMS Air Flowrate"
   ]
  },
  {
   "cell_type": "code",
   "execution_count": 28,
   "metadata": {
    "collapsed": false
   },
   "outputs": [
    {
     "name": "stdout",
     "output_type": "stream",
     "text": [
      "timerange(63, 61)\n",
      "timerange(61, 59)\n",
      "timerange(59, 57)\n",
      "timerange(57, 55)\n",
      "timerange(55, 53)\n",
      "timerange(21, 19)\n",
      "timerange(19, 17)\n",
      "timerange(17, 15)\n",
      "timerange(15, 13)\n"
     ]
    }
   ],
   "source": [
    "airflows = extract_data_from_influx(dec_feb_timeranges, \"AirFlowrate\", \"Airflows_Dec_Feb.csv\")"
   ]
  },
  {
   "cell_type": "code",
   "execution_count": 29,
   "metadata": {
    "collapsed": false
   },
   "outputs": [
    {
     "data": {
      "text/html": [
       "<div>\n",
       "<table border=\"1\" class=\"dataframe\">\n",
       "  <thead>\n",
       "    <tr>\n",
       "      <th>Location</th>\n",
       "      <th>FCU1</th>\n",
       "      <th>FCU2</th>\n",
       "      <th>FCU3</th>\n",
       "      <th>FCU4</th>\n",
       "    </tr>\n",
       "    <tr>\n",
       "      <th>DeviceNum</th>\n",
       "      <th>Num0</th>\n",
       "      <th>Num0</th>\n",
       "      <th>Num0</th>\n",
       "      <th>Num0</th>\n",
       "    </tr>\n",
       "  </thead>\n",
       "  <tbody>\n",
       "    <tr>\n",
       "      <th>2016-12-30 13:55:00+08:00</th>\n",
       "      <td>0.0000</td>\n",
       "      <td>37.675001</td>\n",
       "      <td>0.0</td>\n",
       "      <td>-0.037500</td>\n",
       "    </tr>\n",
       "    <tr>\n",
       "      <th>2016-12-30 14:00:00+08:00</th>\n",
       "      <td>0.0000</td>\n",
       "      <td>36.650000</td>\n",
       "      <td>0.0</td>\n",
       "      <td>-0.037500</td>\n",
       "    </tr>\n",
       "    <tr>\n",
       "      <th>2016-12-30 14:05:00+08:00</th>\n",
       "      <td>0.0000</td>\n",
       "      <td>36.333335</td>\n",
       "      <td>0.0</td>\n",
       "      <td>-0.050000</td>\n",
       "    </tr>\n",
       "    <tr>\n",
       "      <th>2016-12-30 14:10:00+08:00</th>\n",
       "      <td>0.0125</td>\n",
       "      <td>36.825001</td>\n",
       "      <td>0.0</td>\n",
       "      <td>-0.050000</td>\n",
       "    </tr>\n",
       "    <tr>\n",
       "      <th>2016-12-30 14:15:00+08:00</th>\n",
       "      <td>0.0000</td>\n",
       "      <td>37.133334</td>\n",
       "      <td>0.0</td>\n",
       "      <td>-0.041667</td>\n",
       "    </tr>\n",
       "  </tbody>\n",
       "</table>\n",
       "</div>"
      ],
      "text/plain": [
       "Location                     FCU1       FCU2 FCU3      FCU4\n",
       "DeviceNum                    Num0       Num0 Num0      Num0\n",
       "2016-12-30 13:55:00+08:00  0.0000  37.675001  0.0 -0.037500\n",
       "2016-12-30 14:00:00+08:00  0.0000  36.650000  0.0 -0.037500\n",
       "2016-12-30 14:05:00+08:00  0.0000  36.333335  0.0 -0.050000\n",
       "2016-12-30 14:10:00+08:00  0.0125  36.825001  0.0 -0.050000\n",
       "2016-12-30 14:15:00+08:00  0.0000  37.133334  0.0 -0.041667"
      ]
     },
     "execution_count": 29,
     "metadata": {},
     "output_type": "execute_result"
    }
   ],
   "source": [
    "airflows.head()"
   ]
  },
  {
   "cell_type": "markdown",
   "metadata": {},
   "source": [
    "## Coil Valve Position"
   ]
  },
  {
   "cell_type": "code",
   "execution_count": 95,
   "metadata": {
    "collapsed": false
   },
   "outputs": [
    {
     "name": "stdout",
     "output_type": "stream",
     "text": [
      "timerange(73, 71)\n",
      "timerange(71, 69)\n",
      "timerange(69, 67)\n",
      "timerange(67, 65)\n",
      "timerange(65, 63)\n",
      "timerange(31, 29)\n",
      "timerange(29, 27)\n",
      "timerange(27, 25)\n",
      "timerange(25, 23)\n"
     ]
    }
   ],
   "source": [
    "coilvalve = extract_data_from_influx(dec_feb_timeranges, \"ValvePosition\", \"PCBValve_Dec_Feb.csv\")"
   ]
  },
  {
   "cell_type": "code",
   "execution_count": null,
   "metadata": {
    "collapsed": true
   },
   "outputs": [],
   "source": []
  },
  {
   "cell_type": "markdown",
   "metadata": {},
   "source": [
    "## Water supply temp"
   ]
  },
  {
   "cell_type": "code",
   "execution_count": 31,
   "metadata": {
    "collapsed": false
   },
   "outputs": [
    {
     "name": "stdout",
     "output_type": "stream",
     "text": [
      "timerange(63, 61)\n",
      "timerange(61, 59)\n",
      "timerange(59, 57)\n",
      "timerange(57, 55)\n",
      "timerange(55, 53)\n",
      "timerange(21, 19)\n",
      "timerange(19, 17)\n",
      "timerange(17, 15)\n",
      "timerange(15, 13)\n"
     ]
    }
   ],
   "source": [
    "supplywater = extract_data_from_influx(dec_feb_timeranges, \"WaterSupplyTemp\", \"WaterSupplyTemp_Dec_Feb.csv\")"
   ]
  },
  {
   "cell_type": "markdown",
   "metadata": {},
   "source": [
    "# Water flow rates"
   ]
  },
  {
   "cell_type": "code",
   "execution_count": 32,
   "metadata": {
    "collapsed": false
   },
   "outputs": [
    {
     "name": "stdout",
     "output_type": "stream",
     "text": [
      "timerange(63, 61)\n",
      "timerange(61, 59)\n",
      "timerange(59, 57)\n",
      "timerange(57, 55)\n",
      "timerange(55, 53)\n",
      "timerange(21, 19)\n",
      "timerange(19, 17)\n",
      "timerange(17, 15)\n",
      "timerange(15, 13)\n"
     ]
    }
   ],
   "source": [
    "waterflow = extract_data_from_influx(dec_feb_timeranges, \"WaterFlowrate\", \"WaterFlowRate_Dec_Feb.csv\")"
   ]
  },
  {
   "cell_type": "code",
   "execution_count": null,
   "metadata": {
    "collapsed": true
   },
   "outputs": [],
   "source": []
  },
  {
   "cell_type": "markdown",
   "metadata": {},
   "source": [
    "## Get BMS Air System Modulation"
   ]
  },
  {
   "cell_type": "code",
   "execution_count": 70,
   "metadata": {
    "collapsed": true
   },
   "outputs": [],
   "source": [
    "host='horsebrokedown-clocktower-1.c.influxdb.com' \n",
    "port='8086'\n",
    "login='influxdb'\n",
    "pw='a873671b790d4523'\n",
    "dbname = 'siemenstest'\n",
    "\n",
    "# host='lonepine-76a67992.influxcloud.net'\n",
    "# port='8086' \n",
    "# login='loaddata'\n",
    "# pw='uwcsearocks88'\n",
    "# database = 'bms'\n",
    "\n",
    "client = DataFrameClient(host, port, login, pw, dbname, ssl=True, verify_ssl=True)"
   ]
  },
  {
   "cell_type": "code",
   "execution_count": 71,
   "metadata": {
    "collapsed": true
   },
   "outputs": [],
   "source": [
    "def get_data_horse(begin, end, pointtype):\n",
    "    data = client.query('SELECT * FROM bmspoint WHERE time > now() - '+str(end)+'d AND time < now() - '+str(begin)+'d')\n",
    "    data = pd.DataFrame(data['bmspoint'])\n",
    "    tz_pytz = pytz.timezone('Asia/Singapore')\n",
    "    data = data.tz_convert(tz_pytz)\n",
    "    df = data[(data.PointType==pointtype)]\n",
    "    df = pd.pivot_table(df, columns=[\"name\"], index=df.index, values=\"value\")\n",
    "    df = df.resample('5min').mean()\n",
    "    return df"
   ]
  },
  {
   "cell_type": "code",
   "execution_count": 97,
   "metadata": {
    "collapsed": false
   },
   "outputs": [],
   "source": [
    "def extract_data_from_influx_horse(timeranges, pointname, filename):\n",
    "    df_all = pd.DataFrame()\n",
    "    for timerange in timeranges:\n",
    "        print \"timerange\"+str(timerange)\n",
    "        df = get_data_horse(timerange[1],timerange[0], pointname)\n",
    "        df_all = pd.concat([df_all, df], axis=0)\n",
    "    df_all.to_csv(\"./extracted_data/new_space/bulk_data/\"+filename)\n",
    "    return df_all"
   ]
  },
  {
   "cell_type": "code",
   "execution_count": 75,
   "metadata": {
    "collapsed": false
   },
   "outputs": [],
   "source": [
    "#fanmodulation = extract_data_from_influx_horse(dec_feb_timeranges, \"MdltSu\", \"FanModulation_Dec_Feb.csv\")"
   ]
  },
  {
   "cell_type": "code",
   "execution_count": 74,
   "metadata": {
    "collapsed": false,
    "scrolled": true
   },
   "outputs": [
    {
     "name": "stdout",
     "output_type": "stream",
     "text": [
      "<class 'pandas.core.frame.DataFrame'>\n",
      "DatetimeIndex: 5189 entries, 2016-12-30 16:15:00+08:00 to 2017-02-18 16:55:00+08:00\n",
      "Data columns (total 4 columns):\n",
      "B10_Area3for2_A_Ahu1_DOAS_FanSuEh_MdltSu    5178 non-null float64\n",
      "B10_Area3for2_A_Ahu2_DOAS_FanSuEh_MdltSu    5178 non-null float64\n",
      "B10_Area3for2_A_Ahu3_DOAS_FanSuEh_MdltSu    5178 non-null float64\n",
      "B10_Area3for2_A_Ahu4_DOAS_FanSuEh_MdltSu    5178 non-null float64\n",
      "dtypes: float64(4)\n",
      "memory usage: 202.7 KB\n"
     ]
    }
   ],
   "source": [
    "fanmodulation.info()"
   ]
  },
  {
   "cell_type": "markdown",
   "metadata": {},
   "source": [
    "## Air system supply flowrates"
   ]
  },
  {
   "cell_type": "code",
   "execution_count": 79,
   "metadata": {
    "collapsed": false
   },
   "outputs": [
    {
     "name": "stdout",
     "output_type": "stream",
     "text": [
      "timerange(73, 71)\n",
      "timerange(71, 69)\n",
      "timerange(69, 67)\n",
      "timerange(67, 65)\n",
      "timerange(65, 63)\n",
      "timerange(31, 29)\n",
      "timerange(29, 27)\n",
      "timerange(27, 25)\n",
      "timerange(25, 23)\n"
     ]
    }
   ],
   "source": [
    "fanairflow = extract_data_from_influx_horse(dec_feb_timeranges, \"FlSu\", \"AirflowRate_Dec_Feb.csv\")"
   ]
  },
  {
   "cell_type": "code",
   "execution_count": 82,
   "metadata": {
    "collapsed": false
   },
   "outputs": [],
   "source": [
    "fanairflow.to_csv(\"./extracted_data/new_space/bulk_data/AirflowRate.csv\")"
   ]
  },
  {
   "cell_type": "code",
   "execution_count": null,
   "metadata": {
    "collapsed": true
   },
   "outputs": [],
   "source": []
  }
 ],
 "metadata": {
  "hide_input": false,
  "kernelspec": {
   "display_name": "Python 2",
   "language": "python",
   "name": "python2"
  },
  "language_info": {
   "codemirror_mode": {
    "name": "ipython",
    "version": 2
   },
   "file_extension": ".py",
   "mimetype": "text/x-python",
   "name": "python",
   "nbconvert_exporter": "python",
   "pygments_lexer": "ipython2",
   "version": "2.7.12"
  }
 },
 "nbformat": 4,
 "nbformat_minor": 0
}
